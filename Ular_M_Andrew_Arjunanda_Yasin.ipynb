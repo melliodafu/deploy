{
  "nbformat": 4,
  "nbformat_minor": 0,
  "metadata": {
    "colab": {
      "provenance": [],
      "collapsed_sections": []
    },
    "kernelspec": {
      "name": "python3",
      "display_name": "Python 3"
    },
    "language_info": {
      "name": "python"
    },
    "accelerator": "GPU"
  },
  "cells": [
    {
      "cell_type": "markdown",
      "source": [
        "## Import Library"
      ],
      "metadata": {
        "id": "0ANFO_dedx9F"
      }
    },
    {
      "cell_type": "code",
      "execution_count": 11,
      "metadata": {
        "id": "bt0ah22GFNa4"
      },
      "outputs": [],
      "source": [
        "import pandas as pd\n",
        "import seaborn as sns\n",
        "import matplotlib.pyplot as plt\n",
        "import random\n",
        "import tensorflow as tf\n",
        "import numpy as пр\n",
        "\n",
        "from numpy import array\n",
        "from sklearn.model_selection import train_test_split #sklearn digunakan untuk split data\n",
        "\n",
        "from tensorflow.keras import regularizers\n",
        "from tensorflow.keras.utils import to_categorical\n",
        "from tensorflow.keras.preprocessing.text import Tokenizer\n",
        "from tensorflow.keras.preprocessing.sequence import pad_sequences"
      ]
    },
    {
      "cell_type": "markdown",
      "source": [
        "## Load Dataset"
      ],
      "metadata": {
        "id": "BjHIpXDKe2re"
      }
    },
    {
      "cell_type": "code",
      "source": [
        "data = pd.read_csv('dataset_tweet_sentiment_pilkada_DKI_2017.csv', index_col=0) #Load dataset menggunakan Library Pandas\n",
        "data = data[['Text Tweet', 'Sentiment']]\n",
        "data.head()"
      ],
      "metadata": {
        "colab": {
          "base_uri": "https://localhost:8080/",
          "height": 237
        },
        "id": "j5w5pN4zHvuK",
        "outputId": "02ea6515-13c2-4b6e-c68a-888460991d14"
      },
      "execution_count": 12,
      "outputs": [
        {
          "output_type": "execute_result",
          "data": {
            "text/plain": [
              "                                           Text Tweet Sentiment\n",
              "Id                                                             \n",
              "1   Banyak akun kloning seolah2 pendukung #agussil...  negative\n",
              "2   #agussilvy bicara apa kasihan yaa...lap itu ai...  negative\n",
              "3   Kalau aku sih gak nunggu hasil akhir QC tp lag...  negative\n",
              "4   Kasian oh kasian dengan peluru 1milyar untuk t...  negative\n",
              "5   Maaf ya pendukung #AgusSilvy..hayo dukung #Ani...  negative"
            ],
            "text/html": [
              "\n",
              "  <div id=\"df-94a67006-7dae-4a14-bdb8-3bf68d34eb1c\">\n",
              "    <div class=\"colab-df-container\">\n",
              "      <div>\n",
              "<style scoped>\n",
              "    .dataframe tbody tr th:only-of-type {\n",
              "        vertical-align: middle;\n",
              "    }\n",
              "\n",
              "    .dataframe tbody tr th {\n",
              "        vertical-align: top;\n",
              "    }\n",
              "\n",
              "    .dataframe thead th {\n",
              "        text-align: right;\n",
              "    }\n",
              "</style>\n",
              "<table border=\"1\" class=\"dataframe\">\n",
              "  <thead>\n",
              "    <tr style=\"text-align: right;\">\n",
              "      <th></th>\n",
              "      <th>Text Tweet</th>\n",
              "      <th>Sentiment</th>\n",
              "    </tr>\n",
              "    <tr>\n",
              "      <th>Id</th>\n",
              "      <th></th>\n",
              "      <th></th>\n",
              "    </tr>\n",
              "  </thead>\n",
              "  <tbody>\n",
              "    <tr>\n",
              "      <th>1</th>\n",
              "      <td>Banyak akun kloning seolah2 pendukung #agussil...</td>\n",
              "      <td>negative</td>\n",
              "    </tr>\n",
              "    <tr>\n",
              "      <th>2</th>\n",
              "      <td>#agussilvy bicara apa kasihan yaa...lap itu ai...</td>\n",
              "      <td>negative</td>\n",
              "    </tr>\n",
              "    <tr>\n",
              "      <th>3</th>\n",
              "      <td>Kalau aku sih gak nunggu hasil akhir QC tp lag...</td>\n",
              "      <td>negative</td>\n",
              "    </tr>\n",
              "    <tr>\n",
              "      <th>4</th>\n",
              "      <td>Kasian oh kasian dengan peluru 1milyar untuk t...</td>\n",
              "      <td>negative</td>\n",
              "    </tr>\n",
              "    <tr>\n",
              "      <th>5</th>\n",
              "      <td>Maaf ya pendukung #AgusSilvy..hayo dukung #Ani...</td>\n",
              "      <td>negative</td>\n",
              "    </tr>\n",
              "  </tbody>\n",
              "</table>\n",
              "</div>\n",
              "      <button class=\"colab-df-convert\" onclick=\"convertToInteractive('df-94a67006-7dae-4a14-bdb8-3bf68d34eb1c')\"\n",
              "              title=\"Convert this dataframe to an interactive table.\"\n",
              "              style=\"display:none;\">\n",
              "        \n",
              "  <svg xmlns=\"http://www.w3.org/2000/svg\" height=\"24px\"viewBox=\"0 0 24 24\"\n",
              "       width=\"24px\">\n",
              "    <path d=\"M0 0h24v24H0V0z\" fill=\"none\"/>\n",
              "    <path d=\"M18.56 5.44l.94 2.06.94-2.06 2.06-.94-2.06-.94-.94-2.06-.94 2.06-2.06.94zm-11 1L8.5 8.5l.94-2.06 2.06-.94-2.06-.94L8.5 2.5l-.94 2.06-2.06.94zm10 10l.94 2.06.94-2.06 2.06-.94-2.06-.94-.94-2.06-.94 2.06-2.06.94z\"/><path d=\"M17.41 7.96l-1.37-1.37c-.4-.4-.92-.59-1.43-.59-.52 0-1.04.2-1.43.59L10.3 9.45l-7.72 7.72c-.78.78-.78 2.05 0 2.83L4 21.41c.39.39.9.59 1.41.59.51 0 1.02-.2 1.41-.59l7.78-7.78 2.81-2.81c.8-.78.8-2.07 0-2.86zM5.41 20L4 18.59l7.72-7.72 1.47 1.35L5.41 20z\"/>\n",
              "  </svg>\n",
              "      </button>\n",
              "      \n",
              "  <style>\n",
              "    .colab-df-container {\n",
              "      display:flex;\n",
              "      flex-wrap:wrap;\n",
              "      gap: 12px;\n",
              "    }\n",
              "\n",
              "    .colab-df-convert {\n",
              "      background-color: #E8F0FE;\n",
              "      border: none;\n",
              "      border-radius: 50%;\n",
              "      cursor: pointer;\n",
              "      display: none;\n",
              "      fill: #1967D2;\n",
              "      height: 32px;\n",
              "      padding: 0 0 0 0;\n",
              "      width: 32px;\n",
              "    }\n",
              "\n",
              "    .colab-df-convert:hover {\n",
              "      background-color: #E2EBFA;\n",
              "      box-shadow: 0px 1px 2px rgba(60, 64, 67, 0.3), 0px 1px 3px 1px rgba(60, 64, 67, 0.15);\n",
              "      fill: #174EA6;\n",
              "    }\n",
              "\n",
              "    [theme=dark] .colab-df-convert {\n",
              "      background-color: #3B4455;\n",
              "      fill: #D2E3FC;\n",
              "    }\n",
              "\n",
              "    [theme=dark] .colab-df-convert:hover {\n",
              "      background-color: #434B5C;\n",
              "      box-shadow: 0px 1px 3px 1px rgba(0, 0, 0, 0.15);\n",
              "      filter: drop-shadow(0px 1px 2px rgba(0, 0, 0, 0.3));\n",
              "      fill: #FFFFFF;\n",
              "    }\n",
              "  </style>\n",
              "\n",
              "      <script>\n",
              "        const buttonEl =\n",
              "          document.querySelector('#df-94a67006-7dae-4a14-bdb8-3bf68d34eb1c button.colab-df-convert');\n",
              "        buttonEl.style.display =\n",
              "          google.colab.kernel.accessAllowed ? 'block' : 'none';\n",
              "\n",
              "        async function convertToInteractive(key) {\n",
              "          const element = document.querySelector('#df-94a67006-7dae-4a14-bdb8-3bf68d34eb1c');\n",
              "          const dataTable =\n",
              "            await google.colab.kernel.invokeFunction('convertToInteractive',\n",
              "                                                     [key], {});\n",
              "          if (!dataTable) return;\n",
              "\n",
              "          const docLinkHtml = 'Like what you see? Visit the ' +\n",
              "            '<a target=\"_blank\" href=https://colab.research.google.com/notebooks/data_table.ipynb>data table notebook</a>'\n",
              "            + ' to learn more about interactive tables.';\n",
              "          element.innerHTML = '';\n",
              "          dataTable['output_type'] = 'display_data';\n",
              "          await google.colab.output.renderOutput(dataTable, element);\n",
              "          const docLink = document.createElement('div');\n",
              "          docLink.innerHTML = docLinkHtml;\n",
              "          element.appendChild(docLink);\n",
              "        }\n",
              "      </script>\n",
              "    </div>\n",
              "  </div>\n",
              "  "
            ]
          },
          "metadata": {},
          "execution_count": 12
        }
      ]
    },
    {
      "cell_type": "markdown",
      "source": [
        "## Preprocess: Convert Label"
      ],
      "metadata": {
        "id": "QZMpopGqfA89"
      }
    },
    {
      "cell_type": "code",
      "source": [
        "#Mengubah sentimen menjadi menjadi 0 dan 1\n",
        "#x menghimpun dataset\n",
        "#y menghimpun sentimen\n",
        "y = [ 0 if i=='negative' else 1 for i in data['Sentiment'] ] #0 untuk sentimen negatif dan 1 untuk sentimen positif\n",
        "x = data['Text Tweet']\n",
        "print(x[:5], y[:5])"
      ],
      "metadata": {
        "colab": {
          "base_uri": "https://localhost:8080/"
        },
        "id": "dV9_83UgKH03",
        "outputId": "d83d316f-1e3e-4233-8f38-c291e3a02eb6"
      },
      "execution_count": 13,
      "outputs": [
        {
          "output_type": "stream",
          "name": "stdout",
          "text": [
            "Id\n",
            "1    Banyak akun kloning seolah2 pendukung #agussil...\n",
            "2    #agussilvy bicara apa kasihan yaa...lap itu ai...\n",
            "3    Kalau aku sih gak nunggu hasil akhir QC tp lag...\n",
            "4    Kasian oh kasian dengan peluru 1milyar untuk t...\n",
            "5    Maaf ya pendukung #AgusSilvy..hayo dukung #Ani...\n",
            "Name: Text Tweet, dtype: object [0, 0, 0, 0, 0]\n"
          ]
        }
      ]
    },
    {
      "cell_type": "markdown",
      "source": [
        "## Split Data"
      ],
      "metadata": {
        "id": "c8L1TJV8fKQO"
      }
    },
    {
      "cell_type": "code",
      "source": [
        "X_train, X_test, y_train, y_test = train_test_split(x, y, test_size=0.30) #Split 30% untuk data testing dan 70% untuk data training"
      ],
      "metadata": {
        "id": "fic6CtyaKv19"
      },
      "execution_count": 14,
      "outputs": []
    },
    {
      "cell_type": "code",
      "source": [
        "(unique, counts) = np.unique(y_test, return_counts=True)\n",
        "frequencies = np.asarray((unique, counts)).T\n",
        "print(frequencies)\n",
        "#Terdapat 142 data yang sentimennya negatif dan 128 data yang sentimennya positif"
      ],
      "metadata": {
        "colab": {
          "base_uri": "https://localhost:8080/"
        },
        "id": "cgWnZf7FOwlx",
        "outputId": "763d31ed-e764-4c47-a126-10e44208806a"
      },
      "execution_count": 15,
      "outputs": [
        {
          "output_type": "stream",
          "name": "stdout",
          "text": [
            "[[  0 142]\n",
            " [  1 128]]\n"
          ]
        }
      ]
    },
    {
      "cell_type": "markdown",
      "source": [
        "## Model Configuration"
      ],
      "metadata": {
        "id": "BCqB5bDLhCZJ"
      }
    },
    {
      "cell_type": "code",
      "source": [
        "vocab_size = 10000 #Digunakan untuk Tokenizer \n",
        "embedding_dim = 16 #Digunakan untuk Konfigurasi Model\n",
        "max_length = 100 #Digunakan untuk Word Embedding\n",
        "trunc_type='post' #Digunakan untuk representasi urutan numerik data teks (dari kiri)\n",
        "padding_type='post' #Digunakan untuk menentukan panjang maksimum untuk kalimat\n",
        "oov_tok = \"<00V>\" #Digunakan untuk token kosa kata yang ditemukan selama tokenisasi dan penyandian urutan data uji"
      ],
      "metadata": {
        "id": "Wns5-_aYQ_q6"
      },
      "execution_count": 16,
      "outputs": []
    },
    {
      "cell_type": "code",
      "source": [
        "#Preprocess: Tokenization\n",
        "#Pada saat praproses dilakukan Tokenisasi adalah proses untuk membagi teks yang dapat berupa kalimat, paragraf atau dokumen, menjadi token-token/bagian-bagian tertentu.\n",
        "tokenizer = Tokenizer(num_words=vocab_size, oov_token=oov_tok)\n",
        "tokenizer.fit_on_texts(x)\n",
        "\n",
        "word_index = tokenizer.word_index #Kumpulkan word index\n",
        "\n",
        "training_sequences = tokenizer.texts_to_sequences(X_train)\n",
        "testing_sequences = tokenizer.texts_to_sequences(X_test)\n",
        "\n",
        "#Padding\n",
        "#Padding adalah operasi untuk menambah ukuran data input\n",
        "training_padded = pad_sequences(training_sequences, maxlen=max_length, padding=padding_type, truncating=trunc_type)\n",
        "testing_padded = pad_sequences(testing_sequences, maxlen=max_length, padding=padding_type, truncating=trunc_type)\n",
        "\n",
        "#Convert to Numpy Array\n",
        "#Convert hasil padding ke Array\n",
        "training_padded = пр.array(training_padded)\n",
        "training_labels = np.array(y_train)\n",
        "\n",
        "testing_padded = np.array(testing_padded)\n",
        "testing_labels = np.array(y_test)"
      ],
      "metadata": {
        "id": "nmFRVCIZR3Md"
      },
      "execution_count": 17,
      "outputs": []
    },
    {
      "cell_type": "markdown",
      "source": [
        "## Model"
      ],
      "metadata": {
        "id": "NqikGQL36zrR"
      }
    },
    {
      "cell_type": "code",
      "source": [
        "model = tf.keras.Sequential([\n",
        "    tf.keras.layers.Embedding(vocab_size, embedding_dim, input_length=max_length), #Digunakan untuk membuat word embedding(Merepresentasikan vektor np.array kedalam bentuk embedding agar lebih representatif)\n",
        "    tf.keras.layers.GlobalAveragePooling1D(), #Pooling 1 Dimensi dikarenakan bentuknya array\n",
        "    tf.keras.layers.Dense(24, activation='sigmoid'), #Multi Perceptron 1 layer berisi 24 layer dengan fungsi aktivasi sigmoid\n",
        "    tf.keras.layers.Dropout(0.5), #Tambahkan Dropout untuk menghandle Overfit\n",
        "    tf.keras.layers.Dense(1, activation='sigmoid') #1 layer untuk output layer single perceptron dengan fungsi aktivasi sigmoid(menentukan class 0 atau 1)\n",
        "])\n",
        "model.compile(loss='binary_crossentropy',optimizer='nadam',metrics=['accuracy']) #Model binary_crossentropy untuk 0 dan 1"
      ],
      "metadata": {
        "id": "sn4jBzHJTz4i"
      },
      "execution_count": 18,
      "outputs": []
    },
    {
      "cell_type": "markdown",
      "source": [
        "## Training"
      ],
      "metadata": {
        "id": "-XE5HH0Ei5jW"
      }
    },
    {
      "cell_type": "code",
      "source": [
        "num_epochs = 90\n",
        "history = model.fit(training_padded, training_labels, batch_size = 10, epochs=num_epochs, validation_data=(testing_padded, testing_labels), verbose=2) #batch_size digunakan untuk mempercepat proses epoch dikarenakan jumlah data training dibagi dengan batch_sizenya"
      ],
      "metadata": {
        "colab": {
          "base_uri": "https://localhost:8080/"
        },
        "id": "UF6o5dGnT9xb",
        "outputId": "a019fedf-00a5-4032-ce96-33c084ba60b1"
      },
      "execution_count": 19,
      "outputs": [
        {
          "output_type": "stream",
          "name": "stdout",
          "text": [
            "Epoch 1/90\n",
            "63/63 - 5s - loss: 0.7445 - accuracy: 0.4937 - val_loss: 0.6918 - val_accuracy: 0.5259 - 5s/epoch - 74ms/step\n",
            "Epoch 2/90\n",
            "63/63 - 0s - loss: 0.7329 - accuracy: 0.4921 - val_loss: 0.6932 - val_accuracy: 0.4741 - 262ms/epoch - 4ms/step\n",
            "Epoch 3/90\n",
            "63/63 - 0s - loss: 0.7415 - accuracy: 0.4857 - val_loss: 0.6956 - val_accuracy: 0.4741 - 239ms/epoch - 4ms/step\n",
            "Epoch 4/90\n",
            "63/63 - 0s - loss: 0.7338 - accuracy: 0.4905 - val_loss: 0.6937 - val_accuracy: 0.4741 - 267ms/epoch - 4ms/step\n",
            "Epoch 5/90\n",
            "63/63 - 0s - loss: 0.7266 - accuracy: 0.5048 - val_loss: 0.6936 - val_accuracy: 0.4741 - 257ms/epoch - 4ms/step\n",
            "Epoch 6/90\n",
            "63/63 - 0s - loss: 0.7292 - accuracy: 0.4984 - val_loss: 0.6934 - val_accuracy: 0.4741 - 242ms/epoch - 4ms/step\n",
            "Epoch 7/90\n",
            "63/63 - 0s - loss: 0.7311 - accuracy: 0.4937 - val_loss: 0.6930 - val_accuracy: 0.4741 - 231ms/epoch - 4ms/step\n",
            "Epoch 8/90\n",
            "63/63 - 0s - loss: 0.7132 - accuracy: 0.5349 - val_loss: 0.6922 - val_accuracy: 0.4815 - 237ms/epoch - 4ms/step\n",
            "Epoch 9/90\n",
            "63/63 - 0s - loss: 0.7071 - accuracy: 0.5079 - val_loss: 0.6918 - val_accuracy: 0.4815 - 234ms/epoch - 4ms/step\n",
            "Epoch 10/90\n",
            "63/63 - 0s - loss: 0.7047 - accuracy: 0.5206 - val_loss: 0.6935 - val_accuracy: 0.4741 - 248ms/epoch - 4ms/step\n",
            "Epoch 11/90\n",
            "63/63 - 0s - loss: 0.7198 - accuracy: 0.4841 - val_loss: 0.6912 - val_accuracy: 0.4815 - 263ms/epoch - 4ms/step\n",
            "Epoch 12/90\n",
            "63/63 - 0s - loss: 0.7080 - accuracy: 0.5127 - val_loss: 0.6926 - val_accuracy: 0.4741 - 246ms/epoch - 4ms/step\n",
            "Epoch 13/90\n",
            "63/63 - 0s - loss: 0.6966 - accuracy: 0.5127 - val_loss: 0.6908 - val_accuracy: 0.4815 - 241ms/epoch - 4ms/step\n",
            "Epoch 14/90\n",
            "63/63 - 0s - loss: 0.7109 - accuracy: 0.4937 - val_loss: 0.6917 - val_accuracy: 0.4778 - 260ms/epoch - 4ms/step\n",
            "Epoch 15/90\n",
            "63/63 - 0s - loss: 0.6964 - accuracy: 0.5063 - val_loss: 0.6899 - val_accuracy: 0.4815 - 232ms/epoch - 4ms/step\n",
            "Epoch 16/90\n",
            "63/63 - 0s - loss: 0.6975 - accuracy: 0.5159 - val_loss: 0.6891 - val_accuracy: 0.4889 - 251ms/epoch - 4ms/step\n",
            "Epoch 17/90\n",
            "63/63 - 0s - loss: 0.6912 - accuracy: 0.5254 - val_loss: 0.6879 - val_accuracy: 0.4963 - 228ms/epoch - 4ms/step\n",
            "Epoch 18/90\n",
            "63/63 - 0s - loss: 0.6918 - accuracy: 0.5492 - val_loss: 0.6873 - val_accuracy: 0.4963 - 234ms/epoch - 4ms/step\n",
            "Epoch 19/90\n",
            "63/63 - 0s - loss: 0.6861 - accuracy: 0.5492 - val_loss: 0.6861 - val_accuracy: 0.5222 - 240ms/epoch - 4ms/step\n",
            "Epoch 20/90\n",
            "63/63 - 0s - loss: 0.6868 - accuracy: 0.5476 - val_loss: 0.6849 - val_accuracy: 0.5444 - 262ms/epoch - 4ms/step\n",
            "Epoch 21/90\n",
            "63/63 - 0s - loss: 0.6787 - accuracy: 0.5651 - val_loss: 0.6835 - val_accuracy: 0.5667 - 231ms/epoch - 4ms/step\n",
            "Epoch 22/90\n",
            "63/63 - 0s - loss: 0.6795 - accuracy: 0.5619 - val_loss: 0.6827 - val_accuracy: 0.5593 - 264ms/epoch - 4ms/step\n",
            "Epoch 23/90\n",
            "63/63 - 0s - loss: 0.6748 - accuracy: 0.5730 - val_loss: 0.6822 - val_accuracy: 0.5259 - 237ms/epoch - 4ms/step\n",
            "Epoch 24/90\n",
            "63/63 - 0s - loss: 0.6746 - accuracy: 0.5619 - val_loss: 0.6812 - val_accuracy: 0.5296 - 268ms/epoch - 4ms/step\n",
            "Epoch 25/90\n",
            "63/63 - 0s - loss: 0.6753 - accuracy: 0.5905 - val_loss: 0.6798 - val_accuracy: 0.5259 - 269ms/epoch - 4ms/step\n",
            "Epoch 26/90\n",
            "63/63 - 0s - loss: 0.6719 - accuracy: 0.5889 - val_loss: 0.6752 - val_accuracy: 0.7185 - 245ms/epoch - 4ms/step\n",
            "Epoch 27/90\n",
            "63/63 - 0s - loss: 0.6615 - accuracy: 0.6190 - val_loss: 0.6761 - val_accuracy: 0.5407 - 238ms/epoch - 4ms/step\n",
            "Epoch 28/90\n",
            "63/63 - 0s - loss: 0.6514 - accuracy: 0.6317 - val_loss: 0.6731 - val_accuracy: 0.5593 - 237ms/epoch - 4ms/step\n",
            "Epoch 29/90\n",
            "63/63 - 0s - loss: 0.6545 - accuracy: 0.6238 - val_loss: 0.6678 - val_accuracy: 0.7259 - 270ms/epoch - 4ms/step\n",
            "Epoch 30/90\n",
            "63/63 - 0s - loss: 0.6459 - accuracy: 0.6349 - val_loss: 0.6636 - val_accuracy: 0.7407 - 263ms/epoch - 4ms/step\n",
            "Epoch 31/90\n",
            "63/63 - 0s - loss: 0.6339 - accuracy: 0.6603 - val_loss: 0.6627 - val_accuracy: 0.6259 - 235ms/epoch - 4ms/step\n",
            "Epoch 32/90\n",
            "63/63 - 0s - loss: 0.6376 - accuracy: 0.6556 - val_loss: 0.6574 - val_accuracy: 0.7074 - 242ms/epoch - 4ms/step\n",
            "Epoch 33/90\n",
            "63/63 - 0s - loss: 0.6250 - accuracy: 0.6444 - val_loss: 0.6532 - val_accuracy: 0.7000 - 258ms/epoch - 4ms/step\n",
            "Epoch 34/90\n",
            "63/63 - 0s - loss: 0.6135 - accuracy: 0.6810 - val_loss: 0.6473 - val_accuracy: 0.7222 - 262ms/epoch - 4ms/step\n",
            "Epoch 35/90\n",
            "63/63 - 0s - loss: 0.6079 - accuracy: 0.6841 - val_loss: 0.6403 - val_accuracy: 0.7370 - 242ms/epoch - 4ms/step\n",
            "Epoch 36/90\n",
            "63/63 - 0s - loss: 0.5997 - accuracy: 0.6984 - val_loss: 0.6426 - val_accuracy: 0.6259 - 284ms/epoch - 5ms/step\n",
            "Epoch 37/90\n",
            "63/63 - 0s - loss: 0.5826 - accuracy: 0.7349 - val_loss: 0.6286 - val_accuracy: 0.7407 - 237ms/epoch - 4ms/step\n",
            "Epoch 38/90\n",
            "63/63 - 0s - loss: 0.5671 - accuracy: 0.7508 - val_loss: 0.6312 - val_accuracy: 0.6370 - 235ms/epoch - 4ms/step\n",
            "Epoch 39/90\n",
            "63/63 - 0s - loss: 0.5453 - accuracy: 0.7524 - val_loss: 0.6174 - val_accuracy: 0.7333 - 258ms/epoch - 4ms/step\n",
            "Epoch 40/90\n",
            "63/63 - 0s - loss: 0.5404 - accuracy: 0.7571 - val_loss: 0.6106 - val_accuracy: 0.7259 - 446ms/epoch - 7ms/step\n",
            "Epoch 41/90\n",
            "63/63 - 0s - loss: 0.5193 - accuracy: 0.7794 - val_loss: 0.6048 - val_accuracy: 0.7333 - 472ms/epoch - 7ms/step\n",
            "Epoch 42/90\n",
            "63/63 - 1s - loss: 0.5208 - accuracy: 0.7714 - val_loss: 0.5977 - val_accuracy: 0.7296 - 586ms/epoch - 9ms/step\n",
            "Epoch 43/90\n",
            "63/63 - 0s - loss: 0.5052 - accuracy: 0.7746 - val_loss: 0.5881 - val_accuracy: 0.7296 - 268ms/epoch - 4ms/step\n",
            "Epoch 44/90\n",
            "63/63 - 0s - loss: 0.4711 - accuracy: 0.8302 - val_loss: 0.5849 - val_accuracy: 0.7296 - 241ms/epoch - 4ms/step\n",
            "Epoch 45/90\n",
            "63/63 - 0s - loss: 0.4594 - accuracy: 0.8143 - val_loss: 0.5792 - val_accuracy: 0.7259 - 236ms/epoch - 4ms/step\n",
            "Epoch 46/90\n",
            "63/63 - 0s - loss: 0.4599 - accuracy: 0.7952 - val_loss: 0.5780 - val_accuracy: 0.7407 - 239ms/epoch - 4ms/step\n",
            "Epoch 47/90\n",
            "63/63 - 0s - loss: 0.4445 - accuracy: 0.8302 - val_loss: 0.5665 - val_accuracy: 0.7185 - 499ms/epoch - 8ms/step\n",
            "Epoch 48/90\n",
            "63/63 - 0s - loss: 0.4336 - accuracy: 0.8333 - val_loss: 0.5646 - val_accuracy: 0.7222 - 245ms/epoch - 4ms/step\n",
            "Epoch 49/90\n",
            "63/63 - 0s - loss: 0.4132 - accuracy: 0.8159 - val_loss: 0.5572 - val_accuracy: 0.7148 - 241ms/epoch - 4ms/step\n",
            "Epoch 50/90\n",
            "63/63 - 0s - loss: 0.4015 - accuracy: 0.8413 - val_loss: 0.5528 - val_accuracy: 0.7148 - 249ms/epoch - 4ms/step\n",
            "Epoch 51/90\n",
            "63/63 - 0s - loss: 0.4027 - accuracy: 0.8286 - val_loss: 0.5461 - val_accuracy: 0.7444 - 233ms/epoch - 4ms/step\n",
            "Epoch 52/90\n",
            "63/63 - 0s - loss: 0.3685 - accuracy: 0.8508 - val_loss: 0.5568 - val_accuracy: 0.7407 - 270ms/epoch - 4ms/step\n",
            "Epoch 53/90\n",
            "63/63 - 0s - loss: 0.3840 - accuracy: 0.8365 - val_loss: 0.5435 - val_accuracy: 0.7185 - 245ms/epoch - 4ms/step\n",
            "Epoch 54/90\n",
            "63/63 - 0s - loss: 0.3443 - accuracy: 0.8810 - val_loss: 0.5401 - val_accuracy: 0.7185 - 248ms/epoch - 4ms/step\n",
            "Epoch 55/90\n",
            "63/63 - 0s - loss: 0.3459 - accuracy: 0.8730 - val_loss: 0.5405 - val_accuracy: 0.7222 - 236ms/epoch - 4ms/step\n",
            "Epoch 56/90\n",
            "63/63 - 0s - loss: 0.3458 - accuracy: 0.8603 - val_loss: 0.5325 - val_accuracy: 0.7444 - 266ms/epoch - 4ms/step\n",
            "Epoch 57/90\n",
            "63/63 - 0s - loss: 0.3543 - accuracy: 0.8556 - val_loss: 0.5377 - val_accuracy: 0.7296 - 242ms/epoch - 4ms/step\n",
            "Epoch 58/90\n",
            "63/63 - 0s - loss: 0.3180 - accuracy: 0.8571 - val_loss: 0.5659 - val_accuracy: 0.7148 - 244ms/epoch - 4ms/step\n",
            "Epoch 59/90\n",
            "63/63 - 0s - loss: 0.3274 - accuracy: 0.8778 - val_loss: 0.5263 - val_accuracy: 0.7407 - 240ms/epoch - 4ms/step\n",
            "Epoch 60/90\n",
            "63/63 - 0s - loss: 0.3153 - accuracy: 0.8873 - val_loss: 0.5302 - val_accuracy: 0.7185 - 254ms/epoch - 4ms/step\n",
            "Epoch 61/90\n",
            "63/63 - 0s - loss: 0.3180 - accuracy: 0.8746 - val_loss: 0.5249 - val_accuracy: 0.7444 - 267ms/epoch - 4ms/step\n",
            "Epoch 62/90\n",
            "63/63 - 0s - loss: 0.2957 - accuracy: 0.9032 - val_loss: 0.5313 - val_accuracy: 0.7259 - 240ms/epoch - 4ms/step\n",
            "Epoch 63/90\n",
            "63/63 - 0s - loss: 0.2870 - accuracy: 0.8857 - val_loss: 0.5302 - val_accuracy: 0.7296 - 242ms/epoch - 4ms/step\n",
            "Epoch 64/90\n",
            "63/63 - 0s - loss: 0.2862 - accuracy: 0.8873 - val_loss: 0.5297 - val_accuracy: 0.7296 - 252ms/epoch - 4ms/step\n",
            "Epoch 65/90\n",
            "63/63 - 0s - loss: 0.2618 - accuracy: 0.9159 - val_loss: 0.5318 - val_accuracy: 0.7370 - 263ms/epoch - 4ms/step\n",
            "Epoch 66/90\n",
            "63/63 - 0s - loss: 0.2679 - accuracy: 0.9016 - val_loss: 0.5301 - val_accuracy: 0.7370 - 235ms/epoch - 4ms/step\n",
            "Epoch 67/90\n",
            "63/63 - 0s - loss: 0.2546 - accuracy: 0.9048 - val_loss: 0.5409 - val_accuracy: 0.7370 - 272ms/epoch - 4ms/step\n",
            "Epoch 68/90\n",
            "63/63 - 0s - loss: 0.2472 - accuracy: 0.9000 - val_loss: 0.5356 - val_accuracy: 0.7370 - 243ms/epoch - 4ms/step\n",
            "Epoch 69/90\n",
            "63/63 - 0s - loss: 0.2412 - accuracy: 0.9095 - val_loss: 0.5630 - val_accuracy: 0.7296 - 243ms/epoch - 4ms/step\n",
            "Epoch 70/90\n",
            "63/63 - 0s - loss: 0.2507 - accuracy: 0.8968 - val_loss: 0.5594 - val_accuracy: 0.7370 - 249ms/epoch - 4ms/step\n",
            "Epoch 71/90\n",
            "63/63 - 0s - loss: 0.2367 - accuracy: 0.9143 - val_loss: 0.5238 - val_accuracy: 0.7370 - 244ms/epoch - 4ms/step\n",
            "Epoch 72/90\n",
            "63/63 - 0s - loss: 0.2257 - accuracy: 0.9159 - val_loss: 0.5238 - val_accuracy: 0.7444 - 274ms/epoch - 4ms/step\n",
            "Epoch 73/90\n",
            "63/63 - 0s - loss: 0.2250 - accuracy: 0.9143 - val_loss: 0.5271 - val_accuracy: 0.7370 - 244ms/epoch - 4ms/step\n",
            "Epoch 74/90\n",
            "63/63 - 0s - loss: 0.2250 - accuracy: 0.9095 - val_loss: 0.5315 - val_accuracy: 0.7407 - 260ms/epoch - 4ms/step\n",
            "Epoch 75/90\n",
            "63/63 - 0s - loss: 0.2122 - accuracy: 0.9159 - val_loss: 0.5305 - val_accuracy: 0.7370 - 258ms/epoch - 4ms/step\n",
            "Epoch 76/90\n",
            "63/63 - 0s - loss: 0.2181 - accuracy: 0.9032 - val_loss: 0.5403 - val_accuracy: 0.7407 - 241ms/epoch - 4ms/step\n",
            "Epoch 77/90\n",
            "63/63 - 0s - loss: 0.2070 - accuracy: 0.9270 - val_loss: 0.5365 - val_accuracy: 0.7370 - 264ms/epoch - 4ms/step\n",
            "Epoch 78/90\n",
            "63/63 - 0s - loss: 0.1900 - accuracy: 0.9365 - val_loss: 0.5347 - val_accuracy: 0.7407 - 241ms/epoch - 4ms/step\n",
            "Epoch 79/90\n",
            "63/63 - 0s - loss: 0.1888 - accuracy: 0.9206 - val_loss: 0.5461 - val_accuracy: 0.7407 - 267ms/epoch - 4ms/step\n",
            "Epoch 80/90\n",
            "63/63 - 0s - loss: 0.1796 - accuracy: 0.9381 - val_loss: 0.5464 - val_accuracy: 0.7407 - 244ms/epoch - 4ms/step\n",
            "Epoch 81/90\n",
            "63/63 - 0s - loss: 0.1889 - accuracy: 0.9365 - val_loss: 0.5585 - val_accuracy: 0.7370 - 238ms/epoch - 4ms/step\n",
            "Epoch 82/90\n",
            "63/63 - 0s - loss: 0.1717 - accuracy: 0.9429 - val_loss: 0.5396 - val_accuracy: 0.7333 - 244ms/epoch - 4ms/step\n",
            "Epoch 83/90\n",
            "63/63 - 0s - loss: 0.1863 - accuracy: 0.9317 - val_loss: 0.5451 - val_accuracy: 0.7407 - 233ms/epoch - 4ms/step\n",
            "Epoch 84/90\n",
            "63/63 - 0s - loss: 0.1767 - accuracy: 0.9286 - val_loss: 0.5488 - val_accuracy: 0.7370 - 248ms/epoch - 4ms/step\n",
            "Epoch 85/90\n",
            "63/63 - 0s - loss: 0.1723 - accuracy: 0.9349 - val_loss: 0.5574 - val_accuracy: 0.7407 - 268ms/epoch - 4ms/step\n",
            "Epoch 86/90\n",
            "63/63 - 0s - loss: 0.1690 - accuracy: 0.9365 - val_loss: 0.5702 - val_accuracy: 0.7407 - 259ms/epoch - 4ms/step\n",
            "Epoch 87/90\n",
            "63/63 - 0s - loss: 0.1698 - accuracy: 0.9302 - val_loss: 0.5856 - val_accuracy: 0.7333 - 245ms/epoch - 4ms/step\n",
            "Epoch 88/90\n",
            "63/63 - 0s - loss: 0.1633 - accuracy: 0.9429 - val_loss: 0.5526 - val_accuracy: 0.7333 - 276ms/epoch - 4ms/step\n",
            "Epoch 89/90\n",
            "63/63 - 0s - loss: 0.1487 - accuracy: 0.9492 - val_loss: 0.5770 - val_accuracy: 0.7407 - 241ms/epoch - 4ms/step\n",
            "Epoch 90/90\n",
            "63/63 - 0s - loss: 0.1490 - accuracy: 0.9460 - val_loss: 0.5758 - val_accuracy: 0.7407 - 241ms/epoch - 4ms/step\n"
          ]
        }
      ]
    },
    {
      "cell_type": "markdown",
      "source": [
        "## Display History"
      ],
      "metadata": {
        "id": "GqfqG4G3i-7e"
      }
    },
    {
      "cell_type": "code",
      "source": [
        "#Matplotlib digunakan untuk visualiasi data\n",
        "def plot_graphs(history, string):\n",
        "  plt.plot(history.history[string])\n",
        "  plt.plot(history.history['val_'+string])\n",
        "  plt.xlabel(\"Epochs\")\n",
        "  plt.ylabel(string)\n",
        "  plt.legend([string, 'val_'+string])\n",
        "  plt.show()\n",
        "  \n",
        "plot_graphs(history, \"accuracy\")\n",
        "plot_graphs(history, \"loss\")"
      ],
      "metadata": {
        "colab": {
          "base_uri": "https://localhost:8080/",
          "height": 541
        },
        "id": "bwNQ903rWqsW",
        "outputId": "74f2a11d-d6b0-4c99-b722-349b561fd1cf"
      },
      "execution_count": 20,
      "outputs": [
        {
          "output_type": "display_data",
          "data": {
            "text/plain": [
              "<Figure size 432x288 with 1 Axes>"
            ],
            "image/png": "[encoded data removed]"
          },
          "metadata": {
            "needs_background": "light"
          }
        },
        {
          "output_type": "display_data",
          "data": {
            "text/plain": [
              "<Figure size 432x288 with 1 Axes>"
            ],
            "image/png": "[encoded data removed]"
          },
          "metadata": {
            "needs_background": "light"
          }
        }
      ]
    },
    {
      "cell_type": "markdown",
      "source": [
        "Grafik Pertama val_accuracy untuk data test dan accuracy untuk data train. Untuk val_accuracy mencapai angka 0.7259 sedangkan accuracy mencapai angka 0.9905"
      ],
      "metadata": {
        "id": "n23lW-md-Oh4"
      }
    },
    {
      "cell_type": "markdown",
      "source": [
        "Grafik Kedua untuk val_accuracy cukup menurun dan untuk accuracy untuk dapat turun hingga maksimal. Model ini optimal untuk data train namun kurang optimal untuk data test"
      ],
      "metadata": {
        "id": "er9g9Tgr_1Cg"
      }
    },
    {
      "cell_type": "code",
      "source": [
        "y_pred = пр.rint(model.predict(testing_padded)) #Masukkan data test pada model\n",
        "y_pred"
      ],
      "metadata": {
        "colab": {
          "base_uri": "https://localhost:8080/"
        },
        "id": "RmQA9o11XRDu",
        "outputId": "7baccce0-f735-4167-d4f8-fd8a857b14f4"
      },
      "execution_count": 21,
      "outputs": [
        {
          "output_type": "execute_result",
          "data": {
            "text/plain": [
              "array([[1.],\n",
              "       [0.],\n",
              "       [1.],\n",
              "       [1.],\n",
              "       [1.],\n",
              "       [0.],\n",
              "       [1.],\n",
              "       [1.],\n",
              "       [1.],\n",
              "       [1.],\n",
              "       [1.],\n",
              "       [0.],\n",
              "       [1.],\n",
              "       [0.],\n",
              "       [0.],\n",
              "       [0.],\n",
              "       [0.],\n",
              "       [0.],\n",
              "       [0.],\n",
              "       [0.],\n",
              "       [1.],\n",
              "       [1.],\n",
              "       [1.],\n",
              "       [1.],\n",
              "       [0.],\n",
              "       [0.],\n",
              "       [1.],\n",
              "       [0.],\n",
              "       [0.],\n",
              "       [0.],\n",
              "       [0.],\n",
              "       [0.],\n",
              "       [1.],\n",
              "       [1.],\n",
              "       [1.],\n",
              "       [1.],\n",
              "       [1.],\n",
              "       [1.],\n",
              "       [1.],\n",
              "       [1.],\n",
              "       [1.],\n",
              "       [1.],\n",
              "       [1.],\n",
              "       [0.],\n",
              "       [0.],\n",
              "       [0.],\n",
              "       [1.],\n",
              "       [1.],\n",
              "       [0.],\n",
              "       [1.],\n",
              "       [0.],\n",
              "       [1.],\n",
              "       [0.],\n",
              "       [0.],\n",
              "       [0.],\n",
              "       [0.],\n",
              "       [1.],\n",
              "       [1.],\n",
              "       [0.],\n",
              "       [0.],\n",
              "       [1.],\n",
              "       [0.],\n",
              "       [1.],\n",
              "       [0.],\n",
              "       [1.],\n",
              "       [1.],\n",
              "       [1.],\n",
              "       [0.],\n",
              "       [1.],\n",
              "       [1.],\n",
              "       [0.],\n",
              "       [1.],\n",
              "       [1.],\n",
              "       [0.],\n",
              "       [1.],\n",
              "       [1.],\n",
              "       [1.],\n",
              "       [0.],\n",
              "       [1.],\n",
              "       [0.],\n",
              "       [1.],\n",
              "       [0.],\n",
              "       [1.],\n",
              "       [1.],\n",
              "       [0.],\n",
              "       [1.],\n",
              "       [0.],\n",
              "       [1.],\n",
              "       [1.],\n",
              "       [1.],\n",
              "       [0.],\n",
              "       [1.],\n",
              "       [1.],\n",
              "       [1.],\n",
              "       [1.],\n",
              "       [1.],\n",
              "       [1.],\n",
              "       [1.],\n",
              "       [1.],\n",
              "       [0.],\n",
              "       [0.],\n",
              "       [0.],\n",
              "       [0.],\n",
              "       [0.],\n",
              "       [1.],\n",
              "       [0.],\n",
              "       [0.],\n",
              "       [0.],\n",
              "       [1.],\n",
              "       [0.],\n",
              "       [1.],\n",
              "       [1.],\n",
              "       [1.],\n",
              "       [1.],\n",
              "       [0.],\n",
              "       [0.],\n",
              "       [1.],\n",
              "       [0.],\n",
              "       [1.],\n",
              "       [0.],\n",
              "       [0.],\n",
              "       [1.],\n",
              "       [0.],\n",
              "       [1.],\n",
              "       [1.],\n",
              "       [1.],\n",
              "       [1.],\n",
              "       [0.],\n",
              "       [0.],\n",
              "       [0.],\n",
              "       [1.],\n",
              "       [0.],\n",
              "       [1.],\n",
              "       [1.],\n",
              "       [0.],\n",
              "       [1.],\n",
              "       [1.],\n",
              "       [1.],\n",
              "       [1.],\n",
              "       [0.],\n",
              "       [1.],\n",
              "       [0.],\n",
              "       [1.],\n",
              "       [0.],\n",
              "       [1.],\n",
              "       [1.],\n",
              "       [1.],\n",
              "       [1.],\n",
              "       [0.],\n",
              "       [0.],\n",
              "       [1.],\n",
              "       [1.],\n",
              "       [0.],\n",
              "       [1.],\n",
              "       [0.],\n",
              "       [0.],\n",
              "       [1.],\n",
              "       [1.],\n",
              "       [0.],\n",
              "       [0.],\n",
              "       [0.],\n",
              "       [1.],\n",
              "       [0.],\n",
              "       [1.],\n",
              "       [0.],\n",
              "       [1.],\n",
              "       [1.],\n",
              "       [1.],\n",
              "       [1.],\n",
              "       [1.],\n",
              "       [1.],\n",
              "       [1.],\n",
              "       [0.],\n",
              "       [0.],\n",
              "       [1.],\n",
              "       [1.],\n",
              "       [0.],\n",
              "       [0.],\n",
              "       [1.],\n",
              "       [0.],\n",
              "       [1.],\n",
              "       [1.],\n",
              "       [1.],\n",
              "       [1.],\n",
              "       [1.],\n",
              "       [0.],\n",
              "       [1.],\n",
              "       [0.],\n",
              "       [1.],\n",
              "       [1.],\n",
              "       [1.],\n",
              "       [0.],\n",
              "       [1.],\n",
              "       [0.],\n",
              "       [0.],\n",
              "       [1.],\n",
              "       [0.],\n",
              "       [1.],\n",
              "       [0.],\n",
              "       [0.],\n",
              "       [0.],\n",
              "       [0.],\n",
              "       [0.],\n",
              "       [1.],\n",
              "       [1.],\n",
              "       [0.],\n",
              "       [0.],\n",
              "       [0.],\n",
              "       [0.],\n",
              "       [1.],\n",
              "       [1.],\n",
              "       [1.],\n",
              "       [0.],\n",
              "       [0.],\n",
              "       [1.],\n",
              "       [0.],\n",
              "       [0.],\n",
              "       [0.],\n",
              "       [1.],\n",
              "       [0.],\n",
              "       [0.],\n",
              "       [0.],\n",
              "       [0.],\n",
              "       [1.],\n",
              "       [1.],\n",
              "       [1.],\n",
              "       [0.],\n",
              "       [1.],\n",
              "       [0.],\n",
              "       [0.],\n",
              "       [0.],\n",
              "       [1.],\n",
              "       [1.],\n",
              "       [1.],\n",
              "       [1.],\n",
              "       [1.],\n",
              "       [0.],\n",
              "       [0.],\n",
              "       [1.],\n",
              "       [1.],\n",
              "       [0.],\n",
              "       [0.],\n",
              "       [0.],\n",
              "       [0.],\n",
              "       [1.],\n",
              "       [1.],\n",
              "       [1.],\n",
              "       [0.],\n",
              "       [1.],\n",
              "       [0.],\n",
              "       [1.],\n",
              "       [0.],\n",
              "       [0.],\n",
              "       [0.],\n",
              "       [1.],\n",
              "       [0.],\n",
              "       [0.],\n",
              "       [1.],\n",
              "       [1.],\n",
              "       [0.],\n",
              "       [0.],\n",
              "       [1.],\n",
              "       [1.],\n",
              "       [0.],\n",
              "       [0.],\n",
              "       [1.],\n",
              "       [1.],\n",
              "       [0.],\n",
              "       [0.],\n",
              "       [1.]], dtype=float32)"
            ]
          },
          "metadata": {},
          "execution_count": 21
        }
      ]
    },
    {
      "cell_type": "markdown",
      "source": [
        "Didapatkan output list kumpulan class untuk setiap data test"
      ],
      "metadata": {
        "id": "haJYUCn6BKwC"
      }
    },
    {
      "cell_type": "markdown",
      "source": [
        "## Confusion Matrix"
      ],
      "metadata": {
        "id": "Ue6GmUQOjGJm"
      }
    },
    {
      "cell_type": "code",
      "source": [
        "con_mat = tf.math.confusion_matrix(labels=testing_labels, predictions=y_pred).numpy() #Membuat confusion matrix menggunakan Tensorflow\n",
        "con_mat"
      ],
      "metadata": {
        "colab": {
          "base_uri": "https://localhost:8080/"
        },
        "id": "B8A8CCWcXxaO",
        "outputId": "2bf63802-8687-4547-bf34-2e58001974cc"
      },
      "execution_count": 22,
      "outputs": [
        {
          "output_type": "execute_result",
          "data": {
            "text/plain": [
              "array([[ 98,  44],\n",
              "       [ 26, 102]], dtype=int32)"
            ]
          },
          "metadata": {},
          "execution_count": 22
        }
      ]
    },
    {
      "cell_type": "markdown",
      "source": [
        "Terdapat 98 class 0 dan 102 untuk class 1"
      ],
      "metadata": {
        "id": "JGw884hPBlAj"
      }
    },
    {
      "cell_type": "markdown",
      "source": [
        "## Confusion Matrix Normalized"
      ],
      "metadata": {
        "id": "TIxQZ4E1jKtG"
      }
    },
    {
      "cell_type": "code",
      "source": [
        "classes=[0,1]\n",
        "con_mat_norm = np.around(con_mat.astype('float') / con_mat.sum(axis=1)[:, np.newaxis], decimals=2)\n",
        "con_mat_df = pd.DataFrame(con_mat_norm, index = classes, columns = classes)\n",
        "con_mat_df"
      ],
      "metadata": {
        "colab": {
          "base_uri": "https://localhost:8080/",
          "height": 112
        },
        "id": "QcEOGFsZZWjC",
        "outputId": "291049ef-26fb-4707-c2da-6e3c7bfe843c"
      },
      "execution_count": 23,
      "outputs": [
        {
          "output_type": "execute_result",
          "data": {
            "text/plain": [
              "      0     1\n",
              "0  0.69  0.31\n",
              "1  0.20  0.80"
            ],
            "text/html": [
              "\n",
              "  <div id=\"df-4ab57a8d-6512-4c0c-bbee-8509858153e2\">\n",
              "    <div class=\"colab-df-container\">\n",
              "      <div>\n",
              "<style scoped>\n",
              "    .dataframe tbody tr th:only-of-type {\n",
              "        vertical-align: middle;\n",
              "    }\n",
              "\n",
              "    .dataframe tbody tr th {\n",
              "        vertical-align: top;\n",
              "    }\n",
              "\n",
              "    .dataframe thead th {\n",
              "        text-align: right;\n",
              "    }\n",
              "</style>\n",
              "<table border=\"1\" class=\"dataframe\">\n",
              "  <thead>\n",
              "    <tr style=\"text-align: right;\">\n",
              "      <th></th>\n",
              "      <th>0</th>\n",
              "      <th>1</th>\n",
              "    </tr>\n",
              "  </thead>\n",
              "  <tbody>\n",
              "    <tr>\n",
              "      <th>0</th>\n",
              "      <td>0.69</td>\n",
              "      <td>0.31</td>\n",
              "    </tr>\n",
              "    <tr>\n",
              "      <th>1</th>\n",
              "      <td>0.20</td>\n",
              "      <td>0.80</td>\n",
              "    </tr>\n",
              "  </tbody>\n",
              "</table>\n",
              "</div>\n",
              "      <button class=\"colab-df-convert\" onclick=\"convertToInteractive('df-4ab57a8d-6512-4c0c-bbee-8509858153e2')\"\n",
              "              title=\"Convert this dataframe to an interactive table.\"\n",
              "              style=\"display:none;\">\n",
              "        \n",
              "  <svg xmlns=\"http://www.w3.org/2000/svg\" height=\"24px\"viewBox=\"0 0 24 24\"\n",
              "       width=\"24px\">\n",
              "    <path d=\"M0 0h24v24H0V0z\" fill=\"none\"/>\n",
              "    <path d=\"M18.56 5.44l.94 2.06.94-2.06 2.06-.94-2.06-.94-.94-2.06-.94 2.06-2.06.94zm-11 1L8.5 8.5l.94-2.06 2.06-.94-2.06-.94L8.5 2.5l-.94 2.06-2.06.94zm10 10l.94 2.06.94-2.06 2.06-.94-2.06-.94-.94-2.06-.94 2.06-2.06.94z\"/><path d=\"M17.41 7.96l-1.37-1.37c-.4-.4-.92-.59-1.43-.59-.52 0-1.04.2-1.43.59L10.3 9.45l-7.72 7.72c-.78.78-.78 2.05 0 2.83L4 21.41c.39.39.9.59 1.41.59.51 0 1.02-.2 1.41-.59l7.78-7.78 2.81-2.81c.8-.78.8-2.07 0-2.86zM5.41 20L4 18.59l7.72-7.72 1.47 1.35L5.41 20z\"/>\n",
              "  </svg>\n",
              "      </button>\n",
              "      \n",
              "  <style>\n",
              "    .colab-df-container {\n",
              "      display:flex;\n",
              "      flex-wrap:wrap;\n",
              "      gap: 12px;\n",
              "    }\n",
              "\n",
              "    .colab-df-convert {\n",
              "      background-color: #E8F0FE;\n",
              "      border: none;\n",
              "      border-radius: 50%;\n",
              "      cursor: pointer;\n",
              "      display: none;\n",
              "      fill: #1967D2;\n",
              "      height: 32px;\n",
              "      padding: 0 0 0 0;\n",
              "      width: 32px;\n",
              "    }\n",
              "\n",
              "    .colab-df-convert:hover {\n",
              "      background-color: #E2EBFA;\n",
              "      box-shadow: 0px 1px 2px rgba(60, 64, 67, 0.3), 0px 1px 3px 1px rgba(60, 64, 67, 0.15);\n",
              "      fill: #174EA6;\n",
              "    }\n",
              "\n",
              "    [theme=dark] .colab-df-convert {\n",
              "      background-color: #3B4455;\n",
              "      fill: #D2E3FC;\n",
              "    }\n",
              "\n",
              "    [theme=dark] .colab-df-convert:hover {\n",
              "      background-color: #434B5C;\n",
              "      box-shadow: 0px 1px 3px 1px rgba(0, 0, 0, 0.15);\n",
              "      filter: drop-shadow(0px 1px 2px rgba(0, 0, 0, 0.3));\n",
              "      fill: #FFFFFF;\n",
              "    }\n",
              "  </style>\n",
              "\n",
              "      <script>\n",
              "        const buttonEl =\n",
              "          document.querySelector('#df-4ab57a8d-6512-4c0c-bbee-8509858153e2 button.colab-df-convert');\n",
              "        buttonEl.style.display =\n",
              "          google.colab.kernel.accessAllowed ? 'block' : 'none';\n",
              "\n",
              "        async function convertToInteractive(key) {\n",
              "          const element = document.querySelector('#df-4ab57a8d-6512-4c0c-bbee-8509858153e2');\n",
              "          const dataTable =\n",
              "            await google.colab.kernel.invokeFunction('convertToInteractive',\n",
              "                                                     [key], {});\n",
              "          if (!dataTable) return;\n",
              "\n",
              "          const docLinkHtml = 'Like what you see? Visit the ' +\n",
              "            '<a target=\"_blank\" href=https://colab.research.google.com/notebooks/data_table.ipynb>data table notebook</a>'\n",
              "            + ' to learn more about interactive tables.';\n",
              "          element.innerHTML = '';\n",
              "          dataTable['output_type'] = 'display_data';\n",
              "          await google.colab.output.renderOutput(dataTable, element);\n",
              "          const docLink = document.createElement('div');\n",
              "          docLink.innerHTML = docLinkHtml;\n",
              "          element.appendChild(docLink);\n",
              "        }\n",
              "      </script>\n",
              "    </div>\n",
              "  </div>\n",
              "  "
            ]
          },
          "metadata": {},
          "execution_count": 23
        }
      ]
    },
    {
      "cell_type": "markdown",
      "source": [
        "Setelah di Normalisasi didapat  class 0 dengan akurasi 69 % dan class 1 dengan akurasi 80 %"
      ],
      "metadata": {
        "id": "bCNasqN2CIbc"
      }
    },
    {
      "cell_type": "markdown",
      "source": [
        "## Display Confusion Matrix"
      ],
      "metadata": {
        "id": "2G8PMvGZjPkl"
      }
    },
    {
      "cell_type": "code",
      "source": [
        "figure = plt.figure(figsize=(8, 8))\n",
        "sns.heatmap(con_mat_df, annot=True,cmap=plt.cm.Blues)\n",
        "plt.tight_layout()\n",
        "plt.ylabel('True label')\n",
        "plt.xlabel('Predicted label')\n",
        "plt.show()"
      ],
      "metadata": {
        "colab": {
          "base_uri": "https://localhost:8080/",
          "height": 599
        },
        "id": "61PrHBsOZ2in",
        "outputId": "deb4d86f-6899-4277-db01-bb712bdd52d2"
      },
      "execution_count": 24,
      "outputs": [
        {
          "output_type": "display_data",
          "data": {
            "text/plain": [
              "<Figure size 576x576 with 2 Axes>"
            ],
            "image/png": "[encoded data removed]"
          },
          "metadata": {
            "needs_background": "light"
          }
        }
      ]
    },
    {
      "cell_type": "markdown",
      "source": [
        "## Test Sentence"
      ],
      "metadata": {
        "id": "oulBRvrUjW05"
      }
    },
    {
      "cell_type": "markdown",
      "source": [
        "Analisis prediksi sentimen positif"
      ],
      "metadata": {
        "id": "OtDnoSyVClq0"
      }
    },
    {
      "cell_type": "code",
      "source": [
        "sentence = [\"Anies menang Pilkada\"]\n",
        "sequences = tokenizer.texts_to_sequences(sentence)\n",
        "padded = pad_sequences(sequences, maxlen=max_length, padding=padding_type, truncating=trunc_type)\n",
        "print(np.rint(model.predict(padded)))"
      ],
      "metadata": {
        "colab": {
          "base_uri": "https://localhost:8080/"
        },
        "id": "5fuU7y5caaa8",
        "outputId": "5f6c6cf8-b84e-4e1a-ab89-9e2ea931acbc"
      },
      "execution_count": 25,
      "outputs": [
        {
          "output_type": "stream",
          "name": "stdout",
          "text": [
            "[[1.]]\n"
          ]
        }
      ]
    },
    {
      "cell_type": "markdown",
      "source": [
        "Analisis prediksi sentimen negatif"
      ],
      "metadata": {
        "id": "ekJ_0oxHCq9o"
      }
    },
    {
      "cell_type": "code",
      "source": [
        "sentence = [\"Ahok kalah Pilkada\"]\n",
        "sequences = tokenizer.texts_to_sequences(sentence)\n",
        "padded = pad_sequences(sequences, maxlen=max_length, padding=padding_type, truncating=trunc_type)\n",
        "print(np.rint(model.predict(padded)))"
      ],
      "metadata": {
        "colab": {
          "base_uri": "https://localhost:8080/"
        },
        "id": "ruSvy3_TT8Pl",
        "outputId": "78467f57-869e-44df-b1d3-ee36ef418427"
      },
      "execution_count": 26,
      "outputs": [
        {
          "output_type": "stream",
          "name": "stdout",
          "text": [
            "[[0.]]\n"
          ]
        }
      ]
    }
  ]
}